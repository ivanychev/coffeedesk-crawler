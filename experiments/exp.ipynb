{
 "cells": [
  {
   "cell_type": "code",
   "execution_count": 35,
   "metadata": {
    "collapsed": true
   },
   "outputs": [],
   "source": [
    "import httpx\n",
    "from cytoolz import pipe, curried"
   ]
  },
  {
   "cell_type": "code",
   "execution_count": 36,
   "outputs": [],
   "source": [
    "resp = httpx.get('https://www.coffeedesk.pl/widgets/cms/navigation/ac9d993721af3405c2059beb5e91569d/filter')\n",
    "filters = resp.json()"
   ],
   "metadata": {
    "collapsed": false
   }
  },
  {
   "cell_type": "code",
   "execution_count": 37,
   "outputs": [
    {
     "data": {
      "text/plain": "['manufacturer', 'price', 'rating', 'shipping-free', 'properties']"
     },
     "execution_count": 37,
     "metadata": {},
     "output_type": "execute_result"
    }
   ],
   "source": [
    "list(filters)\n"
   ],
   "metadata": {
    "collapsed": false
   }
  },
  {
   "cell_type": "code",
   "execution_count": 38,
   "outputs": [
    {
     "name": "stdout",
     "output_type": "stream",
     "text": [
      "Producent\n",
      "Kolor\n",
      "Tworzywo\n",
      "Ilość espresso\n",
      "Płyty indukcyjne\n",
      "Pojemność\n",
      "Opakowanie\n",
      "Pochodzenie\n",
      "Rodzaj kawy\n",
      "Arabica / Robusta\n",
      "Obróbka\n",
      "Stopień palenia ziaren\n",
      "Przeznaczenie\n",
      "Zastosowanie\n"
     ]
    }
   ],
   "source": [
    "print(\"\\n\".join([r['name'] for r in filters['properties']['entities']]))"
   ],
   "metadata": {
    "collapsed": false
   }
  },
  {
   "cell_type": "code",
   "execution_count": 41,
   "outputs": [
    {
     "data": {
      "text/plain": "{'Mielona': '4cc333f76170852e16e1de8777aa695a',\n 'Rozpuszczalna': '4cc333f76170852e16e1de8777aa695a',\n 'W kapsułkach': '4cc333f76170852e16e1de8777aa695a',\n 'Ziarnista': '4cc333f76170852e16e1de8777aa695a'}"
     },
     "execution_count": 41,
     "metadata": {},
     "output_type": "execute_result"
    }
   ],
   "source": [
    "from operator import itemgetter\n",
    "from typing_extensions import Self\n",
    "\n",
    "ORIGIN = 'Pochodzenie'\n",
    "ARABICA = 'Arabica / Robusta'\n",
    "PACKAGING = 'Opakowanie'\n",
    "COFFEE_TYPE = 'Rodzaj kawy'\n",
    "ROASTING = 'Stopień palenia ziaren'\n",
    "METHOD = 'Przeznaczenie'\n",
    "\n",
    "\n",
    "def extract_filters(attribute_name: str, raw_filters: dict) -> dict[str, str]:\n",
    "    return pipe(\n",
    "        raw_filters['properties']['entities'],\n",
    "        curried.filter(lambda r: r['name'] == attribute_name),\n",
    "        list,\n",
    "        itemgetter(0),\n",
    "        itemgetter('options'),\n",
    "        curried.map(lambda r: (r['name'], r['groupId'])),\n",
    "        dict\n",
    "    )\n",
    "\n",
    "\n",
    "class CoffeeDeskFilters:\n",
    "    def __init__(self, filters: dict[str, dict[str, str]]):\n",
    "        self.filters = filters\n",
    "\n",
    "    @classmethod\n",
    "    def download_and_parse(cls) -> Self:\n",
    "        resp = httpx.get('https://www.coffeedesk.pl/widgets/cms/navigation/ac9d993721af3405c2059beb5e91569d/filter')\n",
    "        filters = resp.json()\n",
    "\n",
    "\n",
    "# extract_filters(ORIGIN, filters)\n",
    "# extract_filters(ARABICA, filters)\n",
    "extract_filters(COFFEE_TYPE, filters)\n"
   ],
   "metadata": {
    "collapsed": false
   }
  },
  {
   "cell_type": "code",
   "execution_count": 42,
   "outputs": [],
   "source": [
    "from furl import furl\n",
    "\n",
    "u = furl(\n",
    "    'https://www.coffeedesk.pl/widgets/cms/navigation/ac9d993721af3405c2059beb5e91569d?no-aggregations=1&order=dostepnosc&p=1&properties=577c9e2997af4ede887246c7afd0213e%7C9087b0efc7c7acd1ef7e153678809c77%7Cf9fd2624beefbc7808e4e405d73f57ab%7Ca36b0dcd1e6384abc0e1867860ad3ee3&slots=0603c3ed87a34617bf1cda0443835ab1')\n"
   ],
   "metadata": {
    "collapsed": false
   }
  },
  {
   "cell_type": "code",
   "execution_count": 46,
   "outputs": [
    {
     "data": {
      "text/plain": "omdict1D([('no-aggregations', '1'), ('order', 'dostepnosc'), ('p', '1'), ('properties', '577c9e2997af4ede887246c7afd0213e|9087b0efc7c7acd1ef7e153678809c77|f9fd2624beefbc7808e4e405d73f57ab|a36b0dcd1e6384abc0e1867860ad3ee3'), ('slots', '0603c3ed87a34617bf1cda0443835ab1')])"
     },
     "execution_count": 46,
     "metadata": {},
     "output_type": "execute_result"
    }
   ],
   "source": [
    "u.query.params\n"
   ],
   "metadata": {
    "collapsed": false
   }
  },
  {
   "cell_type": "code",
   "execution_count": 50,
   "outputs": [],
   "source": [
    "r = httpx.get(\n",
    "    'https://www.coffeedesk.pl/widgets/cms/navigation/ac9d993721af3405c2059beb5e91569d?no-aggregations=1&order=dostepnosc&p=2')\n",
    "html = r.text"
   ],
   "metadata": {
    "collapsed": false
   }
  },
  {
   "cell_type": "code",
   "execution_count": 52,
   "outputs": [],
   "source": [
    "from bs4 import BeautifulSoup\n",
    "\n",
    "soup = BeautifulSoup(html)\n"
   ],
   "metadata": {
    "collapsed": false
   }
  },
  {
   "cell_type": "code",
   "execution_count": 57,
   "outputs": [],
   "source": [
    "with open(\"index.html\", \"w\") as f:\n",
    "    f.write(str(soup))"
   ],
   "metadata": {
    "collapsed": false
   }
  },
  {
   "cell_type": "code",
   "execution_count": 60,
   "outputs": [
    {
     "data": {
      "text/plain": "30"
     },
     "execution_count": 60,
     "metadata": {},
     "output_type": "execute_result"
    }
   ],
   "source": [
    "len(soup.select(\".product-info\"))"
   ],
   "metadata": {
    "collapsed": false
   }
  },
  {
   "cell_type": "code",
   "execution_count": 78,
   "outputs": [
    {
     "data": {
      "text/plain": "'Illy Classico - Filter Roast - Kawa mielona'"
     },
     "execution_count": 78,
     "metadata": {},
     "output_type": "execute_result"
    }
   ],
   "source": [
    "node = soup.select(\".product-info\")[10]\n",
    "node.select('a.product-name')[0].attrs['title']"
   ],
   "metadata": {
    "collapsed": false
   }
  },
  {
   "cell_type": "code",
   "execution_count": null,
   "outputs": [],
   "source": [
    "import dataclasses\n",
    "from bs4.element import Tag\n",
    "from datetime import date, datetime\n",
    "import re\n",
    "\n",
    "DATE_RE = re.compile(r'\\d{2}.\\d{2}.\\d{4}')\n",
    "\n",
    "\n",
    "@dataclasses.dataclass\n",
    "class Coffee:\n",
    "    name: str\n",
    "    link: str\n",
    "    roasting_date: date | None\n",
    "\n",
    "    @classmethod\n",
    "    def parse_from_soup(cls, node: Tag) -> Self:\n",
    "        a_tag = node.select('a.product-name')[0]\n",
    "        link = a_tag.attrs['href']\n",
    "        name = a_tag.attrs['title']\n",
    "        image_node = node.select('img.product-image')[0]\n",
    "        image_url = image_node.attrs['src']\n",
    "        roasting_date = None\n",
    "        if roasting_data := node.select('p.product-box__roasting-data'):\n",
    "            raw_date = DATE_RE.findall(roasting_data[0].text)[0]\n",
    "            roasting_date = datetime.strptime(raw_date, '%d.%m.%Y').date()\n",
    "        return cls(\n",
    "            name=name,\n",
    "            link=link,\n",
    "            roasting_date=roasting_date,\n",
    "            image_url=image_url\n",
    "        )\n",
    "\n"
   ],
   "metadata": {
    "collapsed": false
   }
  },
  {
   "cell_type": "code",
   "execution_count": 85,
   "outputs": [
    {
     "data": {
      "text/plain": "<div class=\"product-info\">\n<a class=\"product-name\" data-dl-options='{\"event\":\"eec.impressionClick\",\"ecommerce\":{\"click\":{\"actionField\":{\"list\":\"\"},\"products\":[{\"id\":\"0101000739\",\"name\":\"Illy\\\\u0020Classico\\\\u0020\\\\u002D\\\\u0020Filter\\\\u0020Roast\\\\u0020\\\\u002D\\\\u0020Kawa\\\\u0020mielona\",\"category\":\"Mielona\\\\\\/Speciality\\\\\\/Nasze\\\\u0020marki\\\\\\/Kawa\\\\\\/Single\\\\u0020origin\",\"position\":11}]}}}' href=\"https://www.coffeedesk.pl/product/13901/Illy-Classico-Filter-Roast-Kawa-Mielona\" title=\"Illy Classico - Filter Roast - Kawa mielona\">\n\t\t\t\tIlly Classico - Filter Roast - Kawa mielona\n\t\t\t</a>\n<div class=\"product-box__data\">\n<p class=\"product-box__roasting-data\">Data palenia: 18.05.2021</p>\n<p class=\"product-box__manufacturer-name\">Producent: Illy</p>\n</div>\n<div class=\"product-description\">\n                                    \n\tIlly Classico Filter to włoska kawa mielona o ciemnym profilu palenia. To 100% Arabika o przyjemnej słodyczy z łagodnymi nutami karmelu, kwiatu pomarańczy i jaśminu. \n\t\n\tZe względu na grubość mielenia, kawa jest polecana szczególnie do ekspresów przelewowych. Odpowiedni stopień mielenia pozwala łatwiej zaparzyć kawę w poprawny sposób. Woda przepływa przez zmieloną kawę w odpowiednim tempie, co przekłada się na poprawną ekstrakcję i napar o oczekiwanym smaku.\n                                </div>\n<div class=\"product-box__actions\">\n<div class=\"product-wishlist\">\n<button class=\"product-wishlist-93a37d73bef4ed6d7b01715b76f462dd product-wishlist-action-circle product-wishlist-not-added product-wishlist-loading\" data-add-to-wishlist=\"true\" data-add-to-wishlist-options='{\"productId\":\"93a37d73bef4ed6d7b01715b76f462dd\",\"router\":{\"add\":{\"afterLoginPath\":\"\\/wishlist\\/add-after-login\\/93a37d73bef4ed6d7b01715b76f462dd\",\"path\":\"\\/wishlist\\/add\\/93a37d73bef4ed6d7b01715b76f462dd\",\"token\":\"1b4dfebfc2584cf58b63c72c20d521d0frontend.wishlist.product.add#\"},\"remove\":{\"path\":\"\\/wishlist\\/remove\\/93a37d73bef4ed6d7b01715b76f462dd\",\"token\":\"1b4dfebfc2584cf58b63c72c20d521d0frontend.wishlist.product.remove#\"}},\"alertMessage\":\"Produkt zosta\\u0142 dodany do listy \\u017cycze\\u0144\",\"headline\":\"Lista \\u017cycze\\u0144\",\"userLoggedIn\":false}' title=\"Przełącz listę życzeń\">\n<span class=\"icon icon-heart-fill icon-md icon-wishlist icon-wishlist-added\">\n<svg height=\"24\" viewbox=\"0 0 24 24\" width=\"24\" xmlns=\"http://www.w3.org/2000/svg\" xmlns:xlink=\"http://www.w3.org/1999/xlink\"><defs><path d=\"m21.428 13.714-7.519 7.519a2.7 2.7 0 0 1-3.818 0l-7.52-7.519A6.667 6.667 0 1 1 12 4.286a6.667 6.667 0 1 1 9.428 9.428z\" id=\"icons-default-heart-fill\"></path></defs><use fill=\"#758CA3\" fill-rule=\"evenodd\" xlink:href=\"#icons-default-heart-fill\"></use></svg>\n</span>\n<span class=\"d-none\" data-title-add=\"true\">Dodaj do listy życzeń</span>\n<span class=\"icon icon--cd icon-heart-empty\"></span>\n<span class=\"d-none\" data-title-remove=\"true\">Usuń z listy życzeń</span>\n</button>\n</div>\n<div class=\"product-action\">\n<form action=\"/checkout/line-item/add\" class=\"buy-widget\" data-add-to-cart=\"true\" method=\"post\">\n<input name=\"_csrf_token\" type=\"hidden\" value=\"1b4dfebfc2584cf58b63c72c20d521d0frontend.checkout.line-item.add#\"/>\n<input name=\"redirectTo\" type=\"hidden\" value=\"frontend.detail.page\"/>\n<input data-redirect-parameters=\"true\" name=\"redirectParameters\" type=\"hidden\" value='{\"productId\": \"93a37d73bef4ed6d7b01715b76f462dd\"}'/>\n<input name=\"lineItems[93a37d73bef4ed6d7b01715b76f462dd][id]\" type=\"hidden\" value=\"93a37d73bef4ed6d7b01715b76f462dd\"/>\n<input name=\"lineItems[93a37d73bef4ed6d7b01715b76f462dd][referencedId]\" type=\"hidden\" value=\"93a37d73bef4ed6d7b01715b76f462dd\"/>\n<input name=\"lineItems[93a37d73bef4ed6d7b01715b76f462dd][type]\" type=\"hidden\" value=\"product\"/>\n<input name=\"lineItems[93a37d73bef4ed6d7b01715b76f462dd][stackable]\" type=\"hidden\" value=\"1\"/>\n<input name=\"lineItems[93a37d73bef4ed6d7b01715b76f462dd][removable]\" type=\"hidden\" value=\"1\"/>\n<input name=\"lineItems[93a37d73bef4ed6d7b01715b76f462dd][quantity]\" type=\"hidden\" value=\"1\"/>\n<input name=\"product-name\" type=\"hidden\" value=\"Illy Classico - Filter Roast - Kawa mielona\"/>\n<button class=\"btn btn-block btn-buy\" title=\"Do koszyka\">\n<div class=\"product-price-info\">\n<div class=\"product-price-wrapper\">\n<span class=\"product-price\">\n            \t\t    \t\t\t\n\t\t\t\t\t\t\n\t\t\t\n\t\t\t\t\t\t\t\t\t\t\t\t\t34<span class=\"product-price__suffix\">,50 <span class=\"product-price__suffix-currency\">zł</span></span>\n</span>\n</div>\n</div>\n</button>\n<input data-product-add-to-cart-dl='{\"event\":\"eec.add\",\"ecommerce\":{\"add\":{\"actionField\":{\"list\":\"\"},\"products\":[{\"id\":\"0101000739\",\"name\":\"Illy Classico - Filter Roast - Kawa mielona\",\"category\":\"Mielona\\/Speciality\\/Nasze marki\\/Kawa\\/Single origin\",\"brand\":\"Illy\",\"variant\":[],\"quantity\":1,\"price\":34.5}]}}}' type=\"hidden\"/>\n</form>\n</div>\n<input name=\"product-name\" type=\"hidden\" value=\"Illy Classico - Filter Roast - Kawa mielona\"/>\n<input name=\"product-id\" type=\"hidden\" value=\"93a37d73bef4ed6d7b01715b76f462dd\"/>\n</div>\n</div>"
     },
     "execution_count": 85,
     "metadata": {},
     "output_type": "execute_result"
    }
   ],
   "source": [
    "soup.select(\".product-info\")[10]"
   ],
   "metadata": {
    "collapsed": false
   }
  },
  {
   "cell_type": "code",
   "execution_count": 81,
   "outputs": [
    {
     "data": {
      "text/plain": "[{'link': 'https://www.coffeedesk.pl/product/24446/Coffee-Plant-Gwatemala-Piedra-Azul-Washed-Filter-250G',\n  'name': 'COFFEE PLANT - Gwatemala Piedra Azul Washed Filter 250g',\n  'roasting_date': '2022-12-20'},\n {'link': 'https://www.coffeedesk.pl/product/23789/Coffee-Plant-Salwador-Finca-El-Cerro-Natural-Espresso-1Kg',\n  'name': 'COFFEE PLANT - Salwador Finca El Cerro Natural Espresso 1kg',\n  'roasting_date': '2022-12-20'},\n {'link': 'https://www.coffeedesk.pl/product/24445/Coffee-Plant-Kenia-David-Ndirangu-Washed-Filter-250G',\n  'name': 'COFFEE PLANT - Kenia David Ndirangu Washed Filter 250g',\n  'roasting_date': '2022-12-20'}]"
     },
     "execution_count": 81,
     "metadata": {},
     "output_type": "execute_result"
    }
   ],
   "source": [
    "import json\n",
    "\n",
    "with open(\"/Users/iv/Code/coffeedesk-crawler/coffee.json\") as f:\n",
    "    coffee = json.load(f)\n",
    "\n",
    "sorted((c for c in coffee if c.get('roasting_date')), reverse=True, key=itemgetter('roasting_date'))[:3]"
   ],
   "metadata": {
    "collapsed": false
   }
  },
  {
   "cell_type": "code",
   "execution_count": null,
   "outputs": [],
   "source": [],
   "metadata": {
    "collapsed": false
   }
  }
 ],
 "metadata": {
  "kernelspec": {
   "display_name": "Python 3",
   "language": "python",
   "name": "python3"
  },
  "language_info": {
   "codemirror_mode": {
    "name": "ipython",
    "version": 2
   },
   "file_extension": ".py",
   "mimetype": "text/x-python",
   "name": "python",
   "nbconvert_exporter": "python",
   "pygments_lexer": "ipython2",
   "version": "2.7.6"
  }
 },
 "nbformat": 4,
 "nbformat_minor": 0
}
